{
 "cells": [
  {
   "cell_type": "code",
   "execution_count": 158,
   "id": "e706f10f",
   "metadata": {},
   "outputs": [],
   "source": [
    "import numpy as np\n",
    "import pandas as pd"
   ]
  },
  {
   "cell_type": "markdown",
   "id": "604d1e85",
   "metadata": {},
   "source": [
    "# Colecciones"
   ]
  },
  {
   "cell_type": "markdown",
   "id": "014e83fa",
   "metadata": {},
   "source": [
    "## Ejercicio 1 \n",
    "\n",
    "Para el siguiente parrafo , genere una tupla que contenga las vocales, una colección que muestre las letras y caracteres contenidas una sola vez y un  diccionario con la cantidad de veces que aparece una vocal sin distinguir entre mayúsculas y minúsculas <br>\n",
    "Muestre cuántas veces aparece la vocal u y la letra b o B <br>\n",
    "Muestre cuáles son las vocales que se repite mas de 40 veces\n",
    "\n",
    "\"El estudio de estas partículas subatómicas, de su estructura y de sus interacciones, incluye materias como la mecánica cuántica y la física de partículas. A veces, debido a que gran parte de las partículas que pueden tratarse como partículas subatómicas solo existen durante períodos de tiempo muy cortos y en condiciones muy extremas como los rayos cósmicos o los aceleradores de partículas, suele llamarse a esta disciplina física de altas energías.\""
   ]
  },
  {
   "cell_type": "code",
   "execution_count": 78,
   "id": "4ecb2178",
   "metadata": {},
   "outputs": [
    {
     "name": "stdout",
     "output_type": "stream",
     "text": [
      "Las vocales son \n",
      " ('a', 'e', 'i', 'o', 'u') \n",
      "\n",
      "El conjunto con letras mayusculas son \n",
      " {'E', 'N', 'Ó', 'Á', 'O', 'B', 'U', 'D', 'X', 'M', 'R', 'F', 'P', 'C', 'A', 'Y', 'I', 'S', 'T', 'L', 'Í', 'Q', 'G', 'V'} \n",
      "\n",
      "Las letras ordenadas son \n",
      " ['A', 'B', 'C', 'D', 'E', 'F', 'G', 'I', 'L', 'M', 'N', 'O', 'P', 'Q', 'R', 'S', 'T', 'U', 'V', 'X', 'Y', 'Á', 'Í', 'Ó'] \n",
      "\n",
      "El conjunto es subcojunto de True \n",
      "\n",
      "La cantidad de veces que aparece las vocales ne parrafo son \n",
      " {'a': 47, 'e': 44, 'i': 29, 'o': 27, 'u': 21}\n",
      "21 \n",
      "\n",
      "Las vocales que mas se repiten son  dict_keys(['a', 'e'])\n"
     ]
    }
   ],
   "source": [
    "# Vocales\n",
    "\n",
    "vocales= (\"a\",\"e\",\"i\",\"o\",\"u\")\n",
    "\n",
    "parrafo =\"El estudio de estas partículas subatómicas, de su estructura y de sus interacciones, incluye materias \"\\\n",
    "        \"como la mecánica cuántica y la física de partículas. A veces, debido a que gran parte de las partículas \"\\\n",
    "        \"que pueden tratarse como partículas subatómicas solo existen durante períodos de tiempo muy cortos \"\\\n",
    "        \"y en condiciones muy extremas como los rayos cósmicos o los aceleradores de partículas, suele \"\\\n",
    "        \"llamarse a esta disciplina física de altas energías.\"\n",
    "\n",
    "#Creación de conjunto\n",
    "caracteres_en_parrafo = {i for i in parrafo.upper()}\n",
    "caracteres_en_parrafo.remove(' ')\n",
    "caracteres_en_parrafo.discard(\",\")\n",
    "caracteres_en_parrafo.discard(\".\")\n",
    "#Creación de lista ordenada\n",
    "Lista_letras =list(caracteres_en_parrafo)\n",
    "Lista_letras.sort()\n",
    "\n",
    "#Inicialización del diccionario\n",
    "diccionario = {i : 0 for i in vocales}\n",
    "\n",
    "#Conteo de cantidad de vocales\n",
    "for i in parrafo.lower():\n",
    "    \n",
    "    if i == vocales[0] or i==\"á\":   \n",
    "        diccionario[vocales[0]]+=1\n",
    "    elif i == vocales[1] or i==\"é\":\n",
    "        diccionario[vocales[1]]+=1\n",
    "    elif i == vocales[2] or i==\"í\":\n",
    "        diccionario[vocales[2]]+=1\n",
    "    elif i == vocales[3] or i==\"ó\":\n",
    "        diccionario[vocales[3]]+=1\n",
    "    elif i == vocales[4] or i==\"ú\":\n",
    "        diccionario[vocales[4]]+=1\n",
    "    else: \n",
    "        pass\n",
    "print(\"Las vocales son \\n\", vocales ,\"\\n\")\n",
    "print(\"El conjunto con letras mayusculas son \\n\", caracteres_en_parrafo ,\"\\n\" )\n",
    "print(f\"Las letras ordenadas son \\n {Lista_letras} \\n\")\n",
    "print(f\"El conjunto es subcojunto de {caracteres_en_parrafo.issubset(Lista_letras)} \\n\")\n",
    "print(f\"La cantidad de veces que aparece las vocales ne parrafo son \\n {diccionario}\")\n",
    "print(diccionario.get('u'), \"\\n\")\n",
    "masvocales = {llave:valor for (llave, valor) in diccionario.items() if valor >= 40}\n",
    "print(\"Las vocales que mas se repiten son \" , masvocales.keys())\n"
   ]
  },
  {
   "cell_type": "markdown",
   "id": "514ed7f6",
   "metadata": {},
   "source": [
    "## Ejercicio 2\n",
    "\n",
    "Se tienen las edades de ciertas personas encuestadas, limpie los datos ya que hay edades negativas y mayores a 100 , identifique que valores son esto y eliminelos, luego  clasifique las personas que son menores de edad, las personas mayores de 60 años y cuantás personas tienen 15 años.\n",
    "\n",
    "Edades: (61,25,30,12,15,40,8,16,69,33,33,70,29,58,15,18,36,50,23,29,42,40,9,53,82,100)\n",
    "\n",
    "\n",
    "\n"
   ]
  },
  {
   "cell_type": "code",
   "execution_count": 145,
   "id": "67da6b15",
   "metadata": {},
   "outputs": [
    {
     "name": "stdout",
     "output_type": "stream",
     "text": [
      "-50\n",
      "156\n",
      "200\n",
      "-6\n",
      "-5\n",
      "Edades corregidas  [61, 25, 30, 12, 15, 40, 8, 16, 69, 33, 33, 70, 29, 58, 15, 18, 36, 50, 23, 29, 42, 40, 9, 53, 82, 100]\n"
     ]
    }
   ],
   "source": [
    "#Edades\n",
    "edades=[61,25,-50,156,200,-6,-5,30,12,15,40,8,16,69,33,33,70,29,58,15,18,36,50,23,29,42,40,9,53,82,100]\n",
    "Edades= edades.copy()\n",
    "for i in edades:\n",
    "    if i < 0 or i>100:\n",
    "        print(i)\n",
    "        Edades.remove(i)\n",
    "        \n",
    "print(f\"Edades corregidas  {Edades}\")"
   ]
  },
  {
   "cell_type": "code",
   "execution_count": 146,
   "id": "607f517e",
   "metadata": {},
   "outputs": [],
   "source": [
    "menores=[]\n",
    "mayores60=[]\n",
    "for i in Edades:\n",
    "    if i<18:\n",
    "        menores.append(i)\n",
    "    elif i>60:\n",
    "        mayores60.append(i)\n",
    "        "
   ]
  },
  {
   "cell_type": "code",
   "execution_count": 147,
   "id": "27c90573",
   "metadata": {},
   "outputs": [
    {
     "name": "stdout",
     "output_type": "stream",
     "text": [
      "[8, 9, 12, 15, 15, 16]\n",
      "hay 2 personas con 15 años\n"
     ]
    }
   ],
   "source": [
    "menores.sort()\n",
    "print(menores)\n",
    "print(f\"hay {menores.count(15)} personas con 15 años\")\n"
   ]
  },
  {
   "cell_type": "code",
   "execution_count": 148,
   "id": "4b51526f",
   "metadata": {},
   "outputs": [
    {
     "data": {
      "text/plain": [
       "[100, 82, 70, 69, 61]"
      ]
     },
     "execution_count": 148,
     "metadata": {},
     "output_type": "execute_result"
    }
   ],
   "source": [
    "mayores60.reverse()\n",
    "mayores60"
   ]
  },
  {
   "cell_type": "markdown",
   "id": "59a1dcfa",
   "metadata": {},
   "source": [
    "# Clases"
   ]
  },
  {
   "cell_type": "code",
   "execution_count": 180,
   "id": "7a696c32",
   "metadata": {},
   "outputs": [],
   "source": [
    "url =\"https://github.com/Steven10P/Ciencia-de-Datos/blob/main/BaseDeDatos.xlsx\"\n",
    "data=pd.read_excel(url)\n"
   ]
  },
  {
   "cell_type": "code",
   "execution_count": 204,
   "id": "216f298b",
   "metadata": {},
   "outputs": [],
   "source": [
    "datos=pd.read_excel(\"BaseDeDatos.xlsx\",sheet_name='Hoja1')"
   ]
  },
  {
   "cell_type": "code",
   "execution_count": 205,
   "id": "451d796e",
   "metadata": {},
   "outputs": [],
   "source": [
    "class Evens(object):\n",
    "    def __init__(self, datos):\n",
    "        self.datos = pd.read_excel(datos)\n",
    "        self.largo = len(self.datos) \n",
    "        self.valor = 1\n",
    "        self.cuenta = self.datos[self.datos[\"número de cuenta\"]==self.valor]\n",
    "    \n",
    "    # Hace esta clase iterable\n",
    "    def __iter__(self):\n",
    "        return self\n",
    "    \n",
    "    # Hace esta clase un iterador\n",
    "    def __next__(self):\n",
    "        if self.valor > self.largo:\n",
    "            raise StopIteration\n",
    "        else:\n",
    "            return_val = self.datos[self.datos[\"número de cuenta\"]==self.valor]\n",
    "            self.valor += 1\n",
    "            return return_val"
   ]
  },
  {
   "cell_type": "code",
   "execution_count": 206,
   "id": "0848a77f",
   "metadata": {},
   "outputs": [
    {
     "name": "stdout",
     "output_type": "stream",
     "text": [
      "¡Empezamos\n",
      "   número de cuenta nombre del cliente  saldo_actual  fecha ultima transacción\n",
      "0                 1       Funación Phi         269055               2022-04-15,    número de cuenta nombre del cliente  saldo_actual  fecha ultima transacción\n",
      "1                 2  Fundación Alegría         871147               2022-06-15,    número de cuenta nombre del cliente  saldo_actual  fecha ultima transacción\n",
      "2                 3    Fundación Alpha         439020               2021-11-30,    número de cuenta nombre del cliente  saldo_actual  fecha ultima transacción\n",
      "3                 4     Fundación Argo         855181               2021-10-23,    número de cuenta nombre del cliente  saldo_actual  fecha ultima transacción\n",
      "4                 5   Fundación Bogotá         369448               2022-07-22,    número de cuenta nombre del cliente  saldo_actual  fecha ultima transacción\n",
      "5                 6   Fundación Clever         522396               2022-08-03,    número de cuenta nombre del cliente  saldo_actual  fecha ultima transacción\n",
      "6                 7   Fundación Clover         716618               2022-01-20,    número de cuenta      nombre del cliente  saldo_actual   \\\n",
      "7                 8  Fundación De La Mañana         564146   \n",
      "\n",
      "  fecha ultima transacción  \n",
      "7               2022-02-23  ,    número de cuenta    nombre del cliente  saldo_actual   \\\n",
      "8                 9  Fundación Del Mañana         415440   \n",
      "\n",
      "  fecha ultima transacción  \n",
      "8               2021-08-08  ,    número de cuenta nombre del cliente  saldo_actual  fecha ultima transacción\n",
      "9                10    Fundación Delta         716783               2022-04-05,     número de cuenta  nombre del cliente  saldo_actual   \\\n",
      "10                11  Fundación Estrella         407274   \n",
      "\n",
      "   fecha ultima transacción  \n",
      "10               2021-11-04  ,     número de cuenta nombre del cliente  saldo_actual   \\\n",
      "11                12    Fundación Heart         625860   \n",
      "\n",
      "   fecha ultima transacción  \n",
      "11               2022-08-25  ,     número de cuenta      nombre del cliente  saldo_actual   \\\n",
      "12                13  Fundación J.F. Kennedy         607179   \n",
      "\n",
      "   fecha ultima transacción  \n",
      "12               2022-09-02  ,     número de cuenta  nombre del cliente  saldo_actual   \\\n",
      "13                14  Fundación Meridium         276793   \n",
      "\n",
      "   fecha ultima transacción  \n",
      "13               2021-11-08  ,     número de cuenta  nombre del cliente  saldo_actual   \\\n",
      "14                15  Fundación Montañas         195206   \n",
      "\n",
      "   fecha ultima transacción  \n",
      "14               2021-12-20  ,     número de cuenta   nombre del cliente  saldo_actual   \\\n",
      "15                16  Fundación Nuevo Día         254648   \n",
      "\n",
      "   fecha ultima transacción  \n",
      "15               2021-09-07  ,     número de cuenta nombre del cliente  saldo_actual   \\\n",
      "16                17     Fundación Ping         726785   \n",
      "\n",
      "   fecha ultima transacción  \n",
      "16               2022-02-09  ,     número de cuenta nombre del cliente  saldo_actual   \\\n",
      "17                18      Fundación Ppt         846645   \n",
      "\n",
      "   fecha ultima transacción  \n",
      "17               2021-12-29  ,     número de cuenta nombre del cliente  saldo_actual   \\\n",
      "18                19    Fundación Smart         107164   \n",
      "\n",
      "   fecha ultima transacción  \n",
      "18               2022-09-12  ,     número de cuenta nombre del cliente  saldo_actual   \\\n",
      "19                20    Fundación Sueño         160891   \n",
      "\n",
      "   fecha ultima transacción  \n",
      "19               2022-05-03  ,     número de cuenta nombre del cliente  saldo_actual   \\\n",
      "20                21   Fundación Triarc         321871   \n",
      "\n",
      "   fecha ultima transacción  \n",
      "20               2021-10-21  ,     número de cuenta nombre del cliente  saldo_actual   \\\n",
      "21                22    Fundación Xiang         216473   \n",
      "\n",
      "   fecha ultima transacción  \n",
      "21               2021-07-30  ,     número de cuenta nombre del cliente  saldo_actual   \\\n",
      "22                23        Fundación Z         678957   \n",
      "\n",
      "   fecha ultima transacción  \n",
      "22               2021-09-16  , \n",
      "Hecho!\n"
     ]
    }
   ],
   "source": [
    "print('¡Empezamos')\n",
    "for i in Evens(\"BaseDeDatos.xlsx\",):\n",
    "    print(i,end=', ')\n",
    "print('\\nHecho!')"
   ]
  },
  {
   "cell_type": "code",
   "execution_count": null,
   "id": "90e27410",
   "metadata": {},
   "outputs": [],
   "source": []
  }
 ],
 "metadata": {
  "kernelspec": {
   "display_name": "Python 3 (ipykernel)",
   "language": "python",
   "name": "python3"
  },
  "language_info": {
   "codemirror_mode": {
    "name": "ipython",
    "version": 3
   },
   "file_extension": ".py",
   "mimetype": "text/x-python",
   "name": "python",
   "nbconvert_exporter": "python",
   "pygments_lexer": "ipython3",
   "version": "3.9.7"
  }
 },
 "nbformat": 4,
 "nbformat_minor": 5
}
