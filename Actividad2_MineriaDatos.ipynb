{
 "cells": [
  {
   "cell_type": "code",
   "execution_count": 158,
   "id": "93c51e07",
   "metadata": {},
   "outputs": [],
   "source": [
    "import numpy as np\n",
    "import pandas as pd"
   ]
  },
  {
   "cell_type": "markdown",
   "id": "0254da79",
   "metadata": {},
   "source": [
    "# Colecciones"
   ]
  },
  {
   "cell_type": "markdown",
   "id": "b35552a9",
   "metadata": {},
   "source": [
    "## Ejercicio 1 \n",
    "\n",
    "Para el siguiente parrafo , genere una tupla que contenga las vocales, una colección que muestre las letras y caracteres contenidas una sola vez y un  diccionario con la cantidad de veces que aparece una vocal sin distinguir entre mayúsculas y minúsculas <br>\n",
    "Muestre cuántas veces aparece la vocal u y la letra b o B <br>\n",
    "Muestre cuáles son las vocales que se repite mas de 40 veces\n",
    "\n",
    "\"El estudio de estas partículas subatómicas, de su estructura y de sus interacciones, incluye materias como la mecánica cuántica y la física de partículas. A veces, debido a que gran parte de las partículas que pueden tratarse como partículas subatómicas solo existen durante períodos de tiempo muy cortos y en condiciones muy extremas como los rayos cósmicos o los aceleradores de partículas, suele llamarse a esta disciplina física de altas energías.\""
   ]
  },
  {
   "cell_type": "code",
   "execution_count": 78,
   "id": "047b5b87",
   "metadata": {},
   "outputs": [
    {
     "name": "stdout",
     "output_type": "stream",
     "text": [
      "Las vocales son \n",
      " ('a', 'e', 'i', 'o', 'u') \n",
      "\n",
      "El conjunto con letras mayusculas son \n",
      " {'E', 'N', 'Ó', 'Á', 'O', 'B', 'U', 'D', 'X', 'M', 'R', 'F', 'P', 'C', 'A', 'Y', 'I', 'S', 'T', 'L', 'Í', 'Q', 'G', 'V'} \n",
      "\n",
      "Las letras ordenadas son \n",
      " ['A', 'B', 'C', 'D', 'E', 'F', 'G', 'I', 'L', 'M', 'N', 'O', 'P', 'Q', 'R', 'S', 'T', 'U', 'V', 'X', 'Y', 'Á', 'Í', 'Ó'] \n",
      "\n",
      "El conjunto es subcojunto de True \n",
      "\n",
      "La cantidad de veces que aparece las vocales ne parrafo son \n",
      " {'a': 47, 'e': 44, 'i': 29, 'o': 27, 'u': 21}\n",
      "21 \n",
      "\n",
      "Las vocales que mas se repiten son  dict_keys(['a', 'e'])\n"
     ]
    }
   ],
   "source": [
    "# Vocales\n",
    "\n",
    "vocales= (\"a\",\"e\",\"i\",\"o\",\"u\")\n",
    "\n",
    "parrafo =\"El estudio de estas partículas subatómicas, de su estructura y de sus interacciones, incluye materias \"\\\n",
    "        \"como la mecánica cuántica y la física de partículas. A veces, debido a que gran parte de las partículas \"\\\n",
    "        \"que pueden tratarse como partículas subatómicas solo existen durante períodos de tiempo muy cortos \"\\\n",
    "        \"y en condiciones muy extremas como los rayos cósmicos o los aceleradores de partículas, suele \"\\\n",
    "        \"llamarse a esta disciplina física de altas energías.\"\n",
    "\n",
    "#Creación de conjunto\n",
    "caracteres_en_parrafo = {i for i in parrafo.upper()}\n",
    "caracteres_en_parrafo.remove(' ')\n",
    "caracteres_en_parrafo.discard(\",\")\n",
    "caracteres_en_parrafo.discard(\".\")\n",
    "#Creación de lista ordenada\n",
    "Lista_letras =list(caracteres_en_parrafo)\n",
    "Lista_letras.sort()\n",
    "\n",
    "#Inicialización del diccionario\n",
    "diccionario = {i : 0 for i in vocales}\n",
    "\n",
    "#Conteo de cantidad de vocales\n",
    "for i in parrafo.lower():\n",
    "    \n",
    "    if i == vocales[0] or i==\"á\":   \n",
    "        diccionario[vocales[0]]+=1\n",
    "    elif i == vocales[1] or i==\"é\":\n",
    "        diccionario[vocales[1]]+=1\n",
    "    elif i == vocales[2] or i==\"í\":\n",
    "        diccionario[vocales[2]]+=1\n",
    "    elif i == vocales[3] or i==\"ó\":\n",
    "        diccionario[vocales[3]]+=1\n",
    "    elif i == vocales[4] or i==\"ú\":\n",
    "        diccionario[vocales[4]]+=1\n",
    "    else: \n",
    "        pass\n",
    "print(\"Las vocales son \\n\", vocales ,\"\\n\")\n",
    "print(\"El conjunto con letras mayusculas son \\n\", caracteres_en_parrafo ,\"\\n\" )\n",
    "print(f\"Las letras ordenadas son \\n {Lista_letras} \\n\")\n",
    "print(f\"El conjunto es subcojunto de {caracteres_en_parrafo.issubset(Lista_letras)} \\n\")\n",
    "print(f\"La cantidad de veces que aparece las vocales ne parrafo son \\n {diccionario}\")\n",
    "print(diccionario.get('u'), \"\\n\")\n",
    "masvocales = {llave:valor for (llave, valor) in diccionario.items() if valor >= 40}\n",
    "print(\"Las vocales que mas se repiten son \" , masvocales.keys())\n"
   ]
  },
  {
   "cell_type": "markdown",
   "id": "2ce5abc9",
   "metadata": {},
   "source": [
    "## Ejercicio 2\n",
    "\n",
    "Se tienen las edades de ciertas personas encuestadas, limpie los datos ya que hay edades negativas y mayores a 100 , identifique que valores son esto y eliminelos, luego  clasifique las personas que son menores de edad, las personas mayores de 60 años y cuantás personas tienen 15 años.\n",
    "\n",
    "Edades: (61,25,30,12,15,40,8,16,69,33,33,70,29,58,15,18,36,50,23,29,42,40,9,53,82,100)\n",
    "\n",
    "\n",
    "\n"
   ]
  },
  {
   "cell_type": "code",
   "execution_count": 145,
   "id": "b4857821",
   "metadata": {},
   "outputs": [
    {
     "name": "stdout",
     "output_type": "stream",
     "text": [
      "-50\n",
      "156\n",
      "200\n",
      "-6\n",
      "-5\n",
      "Edades corregidas  [61, 25, 30, 12, 15, 40, 8, 16, 69, 33, 33, 70, 29, 58, 15, 18, 36, 50, 23, 29, 42, 40, 9, 53, 82, 100]\n"
     ]
    }
   ],
   "source": [
    "#Edades\n",
    "edades=[61,25,-50,156,200,-6,-5,30,12,15,40,8,16,69,33,33,70,29,58,15,18,36,50,23,29,42,40,9,53,82,100]\n",
    "Edades= edades.copy()\n",
    "for i in edades:\n",
    "    if i < 0 or i>100:\n",
    "        print(i)\n",
    "        Edades.remove(i)\n",
    "        \n",
    "print(f\"Edades corregidas  {Edades}\")"
   ]
  },
  {
   "cell_type": "code",
   "execution_count": 146,
   "id": "c43926bf",
   "metadata": {},
   "outputs": [],
   "source": [
    "menores=[]\n",
    "mayores60=[]\n",
    "for i in Edades:\n",
    "    if i<18:\n",
    "        menores.append(i)\n",
    "    elif i>60:\n",
    "        mayores60.append(i)\n",
    "        "
   ]
  },
  {
   "cell_type": "code",
   "execution_count": 147,
   "id": "788a1e4c",
   "metadata": {},
   "outputs": [
    {
     "name": "stdout",
     "output_type": "stream",
     "text": [
      "[8, 9, 12, 15, 15, 16]\n",
      "hay 2 personas con 15 años\n"
     ]
    }
   ],
   "source": [
    "menores.sort()\n",
    "print(menores)\n",
    "print(f\"hay {menores.count(15)} personas con 15 años\")\n"
   ]
  },
  {
   "cell_type": "code",
   "execution_count": 148,
   "id": "ae0b36ab",
   "metadata": {},
   "outputs": [
    {
     "data": {
      "text/plain": [
       "[100, 82, 70, 69, 61]"
      ]
     },
     "execution_count": 148,
     "metadata": {},
     "output_type": "execute_result"
    }
   ],
   "source": [
    "mayores60.reverse()\n",
    "mayores60"
   ]
  },
  {
   "cell_type": "markdown",
   "id": "5f021201",
   "metadata": {},
   "source": [
    "# Clases"
   ]
  },
  {
   "cell_type": "code",
   "execution_count": 159,
   "id": "e619977a",
   "metadata": {},
   "outputs": [
    {
     "ename": "ValueError",
     "evalue": "Excel file format cannot be determined, you must specify an engine manually.",
     "output_type": "error",
     "traceback": [
      "\u001b[1;31m---------------------------------------------------------------------------\u001b[0m",
      "\u001b[1;31mValueError\u001b[0m                                Traceback (most recent call last)",
      "\u001b[1;32m~\\AppData\\Local\\Temp/ipykernel_21988/812396926.py\u001b[0m in \u001b[0;36m<module>\u001b[1;34m\u001b[0m\n\u001b[0;32m      1\u001b[0m \u001b[0murl\u001b[0m \u001b[1;33m=\u001b[0m\u001b[1;34m\"https://github.com/Steven10P/Ciencia-de-Datos/blob/main/BaseDeDatos.xlsx\"\u001b[0m\u001b[1;33m\u001b[0m\u001b[1;33m\u001b[0m\u001b[0m\n\u001b[1;32m----> 2\u001b[1;33m \u001b[0mdata\u001b[0m\u001b[1;33m=\u001b[0m\u001b[0mpd\u001b[0m\u001b[1;33m.\u001b[0m\u001b[0mread_excel\u001b[0m\u001b[1;33m(\u001b[0m\u001b[0murl\u001b[0m\u001b[1;33m)\u001b[0m\u001b[1;33m\u001b[0m\u001b[1;33m\u001b[0m\u001b[0m\n\u001b[0m",
      "\u001b[1;32m~\\anaconda3\\lib\\site-packages\\pandas\\util\\_decorators.py\u001b[0m in \u001b[0;36mwrapper\u001b[1;34m(*args, **kwargs)\u001b[0m\n\u001b[0;32m    309\u001b[0m                     \u001b[0mstacklevel\u001b[0m\u001b[1;33m=\u001b[0m\u001b[0mstacklevel\u001b[0m\u001b[1;33m,\u001b[0m\u001b[1;33m\u001b[0m\u001b[1;33m\u001b[0m\u001b[0m\n\u001b[0;32m    310\u001b[0m                 )\n\u001b[1;32m--> 311\u001b[1;33m             \u001b[1;32mreturn\u001b[0m \u001b[0mfunc\u001b[0m\u001b[1;33m(\u001b[0m\u001b[1;33m*\u001b[0m\u001b[0margs\u001b[0m\u001b[1;33m,\u001b[0m \u001b[1;33m**\u001b[0m\u001b[0mkwargs\u001b[0m\u001b[1;33m)\u001b[0m\u001b[1;33m\u001b[0m\u001b[1;33m\u001b[0m\u001b[0m\n\u001b[0m\u001b[0;32m    312\u001b[0m \u001b[1;33m\u001b[0m\u001b[0m\n\u001b[0;32m    313\u001b[0m         \u001b[1;32mreturn\u001b[0m \u001b[0mwrapper\u001b[0m\u001b[1;33m\u001b[0m\u001b[1;33m\u001b[0m\u001b[0m\n",
      "\u001b[1;32m~\\anaconda3\\lib\\site-packages\\pandas\\io\\excel\\_base.py\u001b[0m in \u001b[0;36mread_excel\u001b[1;34m(io, sheet_name, header, names, index_col, usecols, squeeze, dtype, engine, converters, true_values, false_values, skiprows, nrows, na_values, keep_default_na, na_filter, verbose, parse_dates, date_parser, thousands, comment, skipfooter, convert_float, mangle_dupe_cols, storage_options)\u001b[0m\n\u001b[0;32m    362\u001b[0m     \u001b[1;32mif\u001b[0m \u001b[1;32mnot\u001b[0m \u001b[0misinstance\u001b[0m\u001b[1;33m(\u001b[0m\u001b[0mio\u001b[0m\u001b[1;33m,\u001b[0m \u001b[0mExcelFile\u001b[0m\u001b[1;33m)\u001b[0m\u001b[1;33m:\u001b[0m\u001b[1;33m\u001b[0m\u001b[1;33m\u001b[0m\u001b[0m\n\u001b[0;32m    363\u001b[0m         \u001b[0mshould_close\u001b[0m \u001b[1;33m=\u001b[0m \u001b[1;32mTrue\u001b[0m\u001b[1;33m\u001b[0m\u001b[1;33m\u001b[0m\u001b[0m\n\u001b[1;32m--> 364\u001b[1;33m         \u001b[0mio\u001b[0m \u001b[1;33m=\u001b[0m \u001b[0mExcelFile\u001b[0m\u001b[1;33m(\u001b[0m\u001b[0mio\u001b[0m\u001b[1;33m,\u001b[0m \u001b[0mstorage_options\u001b[0m\u001b[1;33m=\u001b[0m\u001b[0mstorage_options\u001b[0m\u001b[1;33m,\u001b[0m \u001b[0mengine\u001b[0m\u001b[1;33m=\u001b[0m\u001b[0mengine\u001b[0m\u001b[1;33m)\u001b[0m\u001b[1;33m\u001b[0m\u001b[1;33m\u001b[0m\u001b[0m\n\u001b[0m\u001b[0;32m    365\u001b[0m     \u001b[1;32melif\u001b[0m \u001b[0mengine\u001b[0m \u001b[1;32mand\u001b[0m \u001b[0mengine\u001b[0m \u001b[1;33m!=\u001b[0m \u001b[0mio\u001b[0m\u001b[1;33m.\u001b[0m\u001b[0mengine\u001b[0m\u001b[1;33m:\u001b[0m\u001b[1;33m\u001b[0m\u001b[1;33m\u001b[0m\u001b[0m\n\u001b[0;32m    366\u001b[0m         raise ValueError(\n",
      "\u001b[1;32m~\\anaconda3\\lib\\site-packages\\pandas\\io\\excel\\_base.py\u001b[0m in \u001b[0;36m__init__\u001b[1;34m(self, path_or_buffer, engine, storage_options)\u001b[0m\n\u001b[0;32m   1193\u001b[0m                 )\n\u001b[0;32m   1194\u001b[0m                 \u001b[1;32mif\u001b[0m \u001b[0mext\u001b[0m \u001b[1;32mis\u001b[0m \u001b[1;32mNone\u001b[0m\u001b[1;33m:\u001b[0m\u001b[1;33m\u001b[0m\u001b[1;33m\u001b[0m\u001b[0m\n\u001b[1;32m-> 1195\u001b[1;33m                     raise ValueError(\n\u001b[0m\u001b[0;32m   1196\u001b[0m                         \u001b[1;34m\"Excel file format cannot be determined, you must specify \"\u001b[0m\u001b[1;33m\u001b[0m\u001b[1;33m\u001b[0m\u001b[0m\n\u001b[0;32m   1197\u001b[0m                         \u001b[1;34m\"an engine manually.\"\u001b[0m\u001b[1;33m\u001b[0m\u001b[1;33m\u001b[0m\u001b[0m\n",
      "\u001b[1;31mValueError\u001b[0m: Excel file format cannot be determined, you must specify an engine manually."
     ]
    }
   ],
   "source": [
    "url =\"https://github.com/Steven10P/Ciencia-de-Datos/blob/main/BaseDeDatos.xlsx\"\n",
    "data=pd.read_excel(url)"
   ]
  },
  {
   "cell_type": "code",
   "execution_count": 180,
   "id": "691f9995",
   "metadata": {},
   "outputs": [],
   "source": [
    "datos=pd.read_excel(\"BaseDeDatos.xlsx\",sheet_name='Hoja1')"
   ]
  },
  {
   "cell_type": "code",
   "execution_count": 191,
   "id": "2c8414df",
   "metadata": {},
   "outputs": [
    {
     "data": {
      "text/html": [
       "<div>\n",
       "<style scoped>\n",
       "    .dataframe tbody tr th:only-of-type {\n",
       "        vertical-align: middle;\n",
       "    }\n",
       "\n",
       "    .dataframe tbody tr th {\n",
       "        vertical-align: top;\n",
       "    }\n",
       "\n",
       "    .dataframe thead th {\n",
       "        text-align: right;\n",
       "    }\n",
       "</style>\n",
       "<table border=\"1\" class=\"dataframe\">\n",
       "  <thead>\n",
       "    <tr style=\"text-align: right;\">\n",
       "      <th></th>\n",
       "      <th>número de cuenta</th>\n",
       "      <th>nombre del cliente</th>\n",
       "      <th>saldo_actual</th>\n",
       "      <th>fecha ultima transacción</th>\n",
       "    </tr>\n",
       "  </thead>\n",
       "  <tbody>\n",
       "    <tr>\n",
       "      <th>1</th>\n",
       "      <td>2</td>\n",
       "      <td>Fundación Alegría</td>\n",
       "      <td>871147</td>\n",
       "      <td>2022-06-15</td>\n",
       "    </tr>\n",
       "  </tbody>\n",
       "</table>\n",
       "</div>"
      ],
      "text/plain": [
       "   número de cuenta nombre del cliente  saldo_actual  fecha ultima transacción\n",
       "1                 2  Fundación Alegría         871147               2022-06-15"
      ]
     },
     "execution_count": 191,
     "metadata": {},
     "output_type": "execute_result"
    }
   ],
   "source": [
    "datos[datos[\"número de cuenta\"]==2]"
   ]
  },
  {
   "cell_type": "code",
   "execution_count": 192,
   "id": "809a1e54",
   "metadata": {},
   "outputs": [],
   "source": [
    "class Evens(object):\n",
    "    def __init__(self, datos):\n",
    "        self.datos = pd.read_excel(datos)\n",
    "        self.largo = len(datos) \n",
    "        self.valor = 1\n",
    "        self.cuenta = self.datos[self.datos[\"número de cuenta\"]==self.valor]\n",
    "    \n",
    "    # Hace esta clase iterable\n",
    "    def __iter__(self):\n",
    "        return self\n",
    "    \n",
    "    # Hace esta clase un iterador\n",
    "    def __next__(self):\n",
    "        if self.val > self.largo:\n",
    "            raise StopIteration\n",
    "        else:\n",
    "            return_val = self.cuenta\n",
    "            self.val += 1\n",
    "            return return_val"
   ]
  },
  {
   "cell_type": "code",
   "execution_count": null,
   "id": "0908ba29",
   "metadata": {},
   "outputs": [],
   "source": []
  },
  {
   "cell_type": "code",
   "execution_count": null,
   "id": "07f0db40",
   "metadata": {},
   "outputs": [],
   "source": []
  }
 ],
 "metadata": {
  "kernelspec": {
   "display_name": "Python 3 (ipykernel)",
   "language": "python",
   "name": "python3"
  },
  "language_info": {
   "codemirror_mode": {
    "name": "ipython",
    "version": 3
   },
   "file_extension": ".py",
   "mimetype": "text/x-python",
   "name": "python",
   "nbconvert_exporter": "python",
   "pygments_lexer": "ipython3",
   "version": "3.9.7"
  }
 },
 "nbformat": 4,
 "nbformat_minor": 5
}
